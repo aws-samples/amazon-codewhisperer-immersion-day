{
 "cells": [
  {
   "cell_type": "markdown",
   "id": "54b0a781-a853-49c6-89ae-95cea958eb4b",
   "metadata": {},
   "source": [
    "# Predict house prices using Linear Regression\n",
    "\n",
    "In this module, you will assume the role of a data scientist at AnyData company. You are tasked with performing exploratory data analysis and creating a model that can predict house prices based on one or more features. You will download the dataset, perform analysis, and then copy the results to a private Amazon S3 bucket. You will use Python Jupyter notebooks and common Python libraries such as Pandas, Matplotlib and Sklearn.\n",
    "\n",
    "This notebook contains the full working version of task. If you prefer to step through each task, please use the `housing-linear-start-here.ipynb` notebook which contains empty code-cells where you can enter comments generate Amazon CodeWhisperer code recommendations."
   ]
  },
  {
   "cell_type": "markdown",
   "id": "79011a05-0261-4bb5-bd9d-ad636fdf2d3a",
   "metadata": {},
   "source": [
    "## Data Import and Exploration\n",
    "\n",
    "The dataset we will use is a .csv file which describes houses sold in the North East region of the United States in 2022-2023. It contains the selling price along with house features such as the number of bedrooms, bathrooms, sq. ft. and so on. The dataset is available from the Amazon CodeWhisperer Immersion day repository under the MIT license."
   ]
  },
  {
   "cell_type": "markdown",
   "id": "9a1b67e4",
   "metadata": {},
   "source": [
    "### Download and import the dataset"
   ]
  },
  {
   "cell_type": "markdown",
   "id": "bd814679-11f7-4370-a768-e97fa25c39ba",
   "metadata": {},
   "source": [
    "1. To get started, we will import the pandas and matplotlib python libraries in the first code cell. We will work with these libraries throughout the lab."
   ]
  },
  {
   "cell_type": "code",
   "execution_count": 14,
   "id": "1737261b-3353-4645-8a13-a7c250fc93e4",
   "metadata": {
    "tags": []
   },
   "outputs": [],
   "source": [
    "# Import pandas and matplotlib libraries\n",
    "import pandas as pd\n",
    "import matplotlib.pyplot as plt"
   ]
  },
  {
   "cell_type": "markdown",
   "id": "6a5b4236",
   "metadata": {},
   "source": [
    "2. Let's print out the version of the pandas library we are running. This is useful if you are extending this use-case with specific version dependencies."
   ]
  },
  {
   "cell_type": "code",
   "execution_count": 32,
   "id": "028ff060",
   "metadata": {},
   "outputs": [
    {
     "name": "stdout",
     "output_type": "stream",
     "text": [
      "2.0.2\n"
     ]
    }
   ],
   "source": [
    "# Print pandas version\n",
    "print(pd.__version__)"
   ]
  },
  {
   "cell_type": "markdown",
   "id": "dfff83bb-51cb-46ed-a61b-ea362a062305",
   "metadata": {},
   "source": [
    "3. Load the `housing-data.csv` data-set into a pandas data-frame and print it."
   ]
  },
  {
   "cell_type": "code",
   "execution_count": 15,
   "id": "d887fb81-3cb4-45da-9df5-261dc88e8c8f",
   "metadata": {
    "tags": []
   },
   "outputs": [
    {
     "name": "stdout",
     "output_type": "stream",
     "text": [
      "    Bed  Bath  sq. ft.  lot size    Price         Type\n",
      "0     6   3.5     2606      0.42  2050000        House\n",
      "1     2   1.0     1095      0.14   750000        Condo\n",
      "2     4   6.5     5220      0.69  2270000  Multifamily\n",
      "3     3   2.5     1541      0.06   500000     Townhome\n",
      "4     3   2.5     1851      0.06   434000     Townhome\n",
      "5     5   3.0     3316      0.86  1448000        House\n",
      "6     3   3.5     4336      0.10  1772000        House\n",
      "7     2   1.5     1120       NaN   468000        Condo\n",
      "8     4   3.5     3538      0.08  1092000     Townhome\n",
      "9     3   2.5     1922      0.12   837000     Townhome\n",
      "10    4   2.5     2309      0.19   952000     Townhome\n",
      "11    6   4.5     3813      0.09  1951000        House\n",
      "12    4   3.5     2512      2.46  1453000     Townhome\n",
      "13    3   2.5     1676      0.45   887000        Condo\n",
      "14    2   2.0     1258       NaN   361000        Condo\n",
      "15    3   2.5     2228       NaN   644000        Condo\n",
      "16    2   2.0     1277       NaN   354000        Condo\n",
      "17    3   3.5     2390      0.06   451000        House\n",
      "18    1   1.0      423      0.08   424000         Farm\n",
      "19    3   2.5     2265      0.14  1101000        Condo\n",
      "20    2   2.0     1260       NaN   400718        Condo\n",
      "21    2   3.0     1640      0.08   532000     Townhome\n",
      "22    4   2.5     2320       NaN  1276000        Condo\n",
      "23    3   2.5     1926      0.05   758000        Condo\n",
      "24    3   3.0     1855      0.35   914000     Townhome\n",
      "25    4   3.5     3436      1.22  1230000     Townhome\n",
      "26    2   2.5     1656       NaN   545600        Condo\n",
      "27    5   3.0     3248      2.48   792001     Townhome\n",
      "28    3   2.5     1814       NaN   601000         Farm\n",
      "29    4   4.5     4406      1.40  1050800        House\n"
     ]
    }
   ],
   "source": [
    "# Load the housing-data.csv to a pandas dataframe called housing_df and print it\n",
    "import pandas as pd\n",
    "housing_df = pd.read_csv('housing-data.csv')\n",
    "print(housing_df)\n"
   ]
  },
  {
   "cell_type": "markdown",
   "id": "d160f86d",
   "metadata": {},
   "source": [
    "### Explore the dataset\n",
    "\n",
    "In this subsection, we will review some basic information about the dataset."
   ]
  },
  {
   "cell_type": "markdown",
   "id": "15e6bcdb",
   "metadata": {},
   "source": [
    "1. Let's print the first and last few rows in the dataset. CodeWhisperer may provide a multi-line suggestion as you begin typing the first comment."
   ]
  },
  {
   "cell_type": "code",
   "execution_count": 16,
   "id": "6fc02fd9",
   "metadata": {},
   "outputs": [
    {
     "name": "stdout",
     "output_type": "stream",
     "text": [
      "   Bed  Bath  sq. ft.  lot size    Price         Type\n",
      "0    6   3.5     2606      0.42  2050000        House\n",
      "1    2   1.0     1095      0.14   750000        Condo\n",
      "2    4   6.5     5220      0.69  2270000  Multifamily\n",
      "3    3   2.5     1541      0.06   500000     Townhome\n",
      "4    3   2.5     1851      0.06   434000     Townhome\n",
      "    Bed  Bath  sq. ft.  lot size    Price      Type\n",
      "25    4   3.5     3436      1.22  1230000  Townhome\n",
      "26    2   2.5     1656       NaN   545600     Condo\n",
      "27    5   3.0     3248      2.48   792001  Townhome\n",
      "28    3   2.5     1814       NaN   601000      Farm\n",
      "29    4   4.5     4406      1.40  1050800     House\n",
      "(30, 6)\n"
     ]
    }
   ],
   "source": [
    "# print the first few rows of the housing_df data-set and last few rows\n",
    "print(housing_df.head())\n",
    "print(housing_df.tail())\n"
   ]
  },
  {
   "cell_type": "markdown",
   "id": "80d1c764",
   "metadata": {},
   "source": [
    "2. Finally, let's review more information on each column or feature."
   ]
  },
  {
   "cell_type": "code",
   "execution_count": 17,
   "id": "8d97dd97",
   "metadata": {},
   "outputs": [
    {
     "name": "stdout",
     "output_type": "stream",
     "text": [
      "<class 'pandas.core.frame.DataFrame'>\n",
      "RangeIndex: 30 entries, 0 to 29\n",
      "Data columns (total 6 columns):\n",
      " #   Column    Non-Null Count  Dtype  \n",
      "---  ------    --------------  -----  \n",
      " 0   Bed       30 non-null     int64  \n",
      " 1   Bath      30 non-null     float64\n",
      " 2   sq. ft.   30 non-null     int64  \n",
      " 3   lot size  22 non-null     float64\n",
      " 4   Price     30 non-null     int64  \n",
      " 5   Type      30 non-null     object \n",
      "dtypes: float64(2), int64(3), object(1)\n",
      "memory usage: 1.5+ KB\n"
     ]
    },
    {
     "data": {
      "text/html": [
       "<div>\n",
       "<style scoped>\n",
       "    .dataframe tbody tr th:only-of-type {\n",
       "        vertical-align: middle;\n",
       "    }\n",
       "\n",
       "    .dataframe tbody tr th {\n",
       "        vertical-align: top;\n",
       "    }\n",
       "\n",
       "    .dataframe thead th {\n",
       "        text-align: right;\n",
       "    }\n",
       "</style>\n",
       "<table border=\"1\" class=\"dataframe\">\n",
       "  <thead>\n",
       "    <tr style=\"text-align: right;\">\n",
       "      <th></th>\n",
       "      <th>Bed</th>\n",
       "      <th>Bath</th>\n",
       "      <th>sq. ft.</th>\n",
       "      <th>lot size</th>\n",
       "      <th>Price</th>\n",
       "    </tr>\n",
       "  </thead>\n",
       "  <tbody>\n",
       "    <tr>\n",
       "      <th>count</th>\n",
       "      <td>30.000000</td>\n",
       "      <td>30.000000</td>\n",
       "      <td>30.000000</td>\n",
       "      <td>22.000000</td>\n",
       "      <td>3.000000e+01</td>\n",
       "    </tr>\n",
       "    <tr>\n",
       "      <th>mean</th>\n",
       "      <td>3.266667</td>\n",
       "      <td>2.850000</td>\n",
       "      <td>2341.900000</td>\n",
       "      <td>0.526364</td>\n",
       "      <td>9.433040e+05</td>\n",
       "    </tr>\n",
       "    <tr>\n",
       "      <th>std</th>\n",
       "      <td>1.201532</td>\n",
       "      <td>1.075992</td>\n",
       "      <td>1122.910699</td>\n",
       "      <td>0.737193</td>\n",
       "      <td>5.340711e+05</td>\n",
       "    </tr>\n",
       "    <tr>\n",
       "      <th>min</th>\n",
       "      <td>1.000000</td>\n",
       "      <td>1.000000</td>\n",
       "      <td>423.000000</td>\n",
       "      <td>0.050000</td>\n",
       "      <td>3.540000e+05</td>\n",
       "    </tr>\n",
       "    <tr>\n",
       "      <th>25%</th>\n",
       "      <td>2.250000</td>\n",
       "      <td>2.500000</td>\n",
       "      <td>1644.000000</td>\n",
       "      <td>0.080000</td>\n",
       "      <td>5.080000e+05</td>\n",
       "    </tr>\n",
       "    <tr>\n",
       "      <th>50%</th>\n",
       "      <td>3.000000</td>\n",
       "      <td>2.500000</td>\n",
       "      <td>2077.000000</td>\n",
       "      <td>0.140000</td>\n",
       "      <td>8.145005e+05</td>\n",
       "    </tr>\n",
       "    <tr>\n",
       "      <th>75%</th>\n",
       "      <td>4.000000</td>\n",
       "      <td>3.500000</td>\n",
       "      <td>3087.500000</td>\n",
       "      <td>0.630000</td>\n",
       "      <td>1.197750e+06</td>\n",
       "    </tr>\n",
       "    <tr>\n",
       "      <th>max</th>\n",
       "      <td>6.000000</td>\n",
       "      <td>6.500000</td>\n",
       "      <td>5220.000000</td>\n",
       "      <td>2.480000</td>\n",
       "      <td>2.270000e+06</td>\n",
       "    </tr>\n",
       "  </tbody>\n",
       "</table>\n",
       "</div>"
      ],
      "text/plain": [
       "             Bed       Bath      sq. ft.   lot size         Price\n",
       "count  30.000000  30.000000    30.000000  22.000000  3.000000e+01\n",
       "mean    3.266667   2.850000  2341.900000   0.526364  9.433040e+05\n",
       "std     1.201532   1.075992  1122.910699   0.737193  5.340711e+05\n",
       "min     1.000000   1.000000   423.000000   0.050000  3.540000e+05\n",
       "25%     2.250000   2.500000  1644.000000   0.080000  5.080000e+05\n",
       "50%     3.000000   2.500000  2077.000000   0.140000  8.145005e+05\n",
       "75%     4.000000   3.500000  3087.500000   0.630000  1.197750e+06\n",
       "max     6.000000   6.500000  5220.000000   2.480000  2.270000e+06"
      ]
     },
     "execution_count": 17,
     "metadata": {},
     "output_type": "execute_result"
    }
   ],
   "source": [
    "# view information about this dataframe and describe the dataset\n",
    "housing_df.info()\n",
    "housing_df.describe()\n"
   ]
  },
  {
   "cell_type": "markdown",
   "id": "2449514f",
   "metadata": {},
   "source": [
    "In the previous output you will notice that there are 5 columns with a mix of data types. In addition, note that at least one of the columns have some null values based on the `Non-Null Count` field. From the output of the `describe` function, we can view some statistical information on columns with numerical values."
   ]
  },
  {
   "cell_type": "markdown",
   "id": "83b9740a",
   "metadata": {},
   "source": [
    "In this section we started our house prices prediction lab by downloading the dataset and examining it.  We used Amazon CodeWhisperer code suggestions to help with these tasks. In the next section we will clean up, transform and visualize the data for more analysis."
   ]
  },
  {
   "cell_type": "markdown",
   "id": "6166d8bd-46f4-4e7f-84ba-8e26e79830a2",
   "metadata": {},
   "source": [
    "## Data Transformation and Visualization\n",
    "\n",
    "Cleaning up data is part of nearly every data science project. In the previous section you may have noticed some null or missing values within certain rows. In this section we will remove rows with missing values, then visualize the data. We will then convert a categorical column into numerical values. As before, Amazon CodeWhisperer can help us perform these tasks quickly."
   ]
  },
  {
   "cell_type": "markdown",
   "id": "4c97ed24",
   "metadata": {},
   "source": [
    "### Cleaning up data"
   ]
  },
  {
   "cell_type": "markdown",
   "id": "7a7f70ea-7fec-4ce4-90d8-0d5b419607ec",
   "metadata": {},
   "source": [
    "1. Drop any rows that contain null values from the existing data frame. "
   ]
  },
  {
   "cell_type": "code",
   "execution_count": 4,
   "id": "c402b534",
   "metadata": {},
   "outputs": [],
   "source": [
    "# Drop dataframe rows with null values\n",
    "housing_df = housing_df.dropna()"
   ]
  },
  {
   "cell_type": "markdown",
   "id": "7d67beff",
   "metadata": {},
   "source": [
    "2. Next using CodeWhisperer, we will drop the `lot_size` column. While this feature may influence house prices, we will exclude it from our analysis for now."
   ]
  },
  {
   "cell_type": "code",
   "execution_count": 42,
   "id": "c4ddc930",
   "metadata": {},
   "outputs": [],
   "source": [
    "# Drop the `lot size` column \n",
    "housing_df = housing_df.drop(columns=['lot size'])"
   ]
  },
  {
   "cell_type": "markdown",
   "id": "aed9fcc5",
   "metadata": {},
   "source": [
    "3. Print information about the dataframe again along with the first 5 rows. "
   ]
  },
  {
   "cell_type": "code",
   "execution_count": 43,
   "id": "cf6ff168",
   "metadata": {},
   "outputs": [
    {
     "name": "stdout",
     "output_type": "stream",
     "text": [
      "<class 'pandas.core.frame.DataFrame'>\n",
      "Index: 22 entries, 0 to 29\n",
      "Data columns (total 5 columns):\n",
      " #   Column   Non-Null Count  Dtype  \n",
      "---  ------   --------------  -----  \n",
      " 0   Bed      22 non-null     int64  \n",
      " 1   Bath     22 non-null     float64\n",
      " 2   sq. ft.  22 non-null     int64  \n",
      " 3   Price    22 non-null     int64  \n",
      " 4   Type     22 non-null     object \n",
      "dtypes: float64(1), int64(3), object(1)\n",
      "memory usage: 1.0+ KB\n",
      "None\n",
      "   Bed  Bath  sq. ft.    Price         Type\n",
      "0    6   3.5     2606  2050000        House\n",
      "1    2   1.0     1095   750000        Condo\n",
      "2    4   6.5     5220  2270000  Multifamily\n",
      "3    3   2.5     1541   500000     Townhome\n",
      "4    3   2.5     1851   434000     Townhome\n"
     ]
    }
   ],
   "source": [
    "# Print information about the dataframe and print the first 5 rows.\n",
    "print(housing_df.info())\n",
    "\n",
    "print(housing_df.head())"
   ]
  },
  {
   "cell_type": "markdown",
   "id": "9c1cbe3f",
   "metadata": {},
   "source": [
    "Notice that the `Non-Null Count` is consistent for each column and that the lot size column is no longer present."
   ]
  },
  {
   "cell_type": "markdown",
   "id": "f0d66e2c",
   "metadata": {},
   "source": [
    "4. Let's use one hot encoding to convert the `Type` column from categorical to numerical data. Print the first few rows again to review the new columns added by this operation."
   ]
  },
  {
   "cell_type": "code",
   "execution_count": 5,
   "id": "e146cebc",
   "metadata": {},
   "outputs": [
    {
     "data": {
      "text/html": [
       "<div>\n",
       "<style scoped>\n",
       "    .dataframe tbody tr th:only-of-type {\n",
       "        vertical-align: middle;\n",
       "    }\n",
       "\n",
       "    .dataframe tbody tr th {\n",
       "        vertical-align: top;\n",
       "    }\n",
       "\n",
       "    .dataframe thead th {\n",
       "        text-align: right;\n",
       "    }\n",
       "</style>\n",
       "<table border=\"1\" class=\"dataframe\">\n",
       "  <thead>\n",
       "    <tr style=\"text-align: right;\">\n",
       "      <th></th>\n",
       "      <th>Bed</th>\n",
       "      <th>Bath</th>\n",
       "      <th>sq. ft.</th>\n",
       "      <th>lot size</th>\n",
       "      <th>Price</th>\n",
       "      <th>Type_Condo</th>\n",
       "      <th>Type_Farm</th>\n",
       "      <th>Type_House</th>\n",
       "      <th>Type_Multifamily</th>\n",
       "      <th>Type_Townhome</th>\n",
       "    </tr>\n",
       "  </thead>\n",
       "  <tbody>\n",
       "    <tr>\n",
       "      <th>0</th>\n",
       "      <td>6</td>\n",
       "      <td>3.5</td>\n",
       "      <td>2606</td>\n",
       "      <td>0.42</td>\n",
       "      <td>2050000</td>\n",
       "      <td>False</td>\n",
       "      <td>False</td>\n",
       "      <td>True</td>\n",
       "      <td>False</td>\n",
       "      <td>False</td>\n",
       "    </tr>\n",
       "    <tr>\n",
       "      <th>1</th>\n",
       "      <td>2</td>\n",
       "      <td>1.0</td>\n",
       "      <td>1095</td>\n",
       "      <td>0.14</td>\n",
       "      <td>750000</td>\n",
       "      <td>True</td>\n",
       "      <td>False</td>\n",
       "      <td>False</td>\n",
       "      <td>False</td>\n",
       "      <td>False</td>\n",
       "    </tr>\n",
       "    <tr>\n",
       "      <th>2</th>\n",
       "      <td>4</td>\n",
       "      <td>6.5</td>\n",
       "      <td>5220</td>\n",
       "      <td>0.69</td>\n",
       "      <td>2270000</td>\n",
       "      <td>False</td>\n",
       "      <td>False</td>\n",
       "      <td>False</td>\n",
       "      <td>True</td>\n",
       "      <td>False</td>\n",
       "    </tr>\n",
       "    <tr>\n",
       "      <th>3</th>\n",
       "      <td>3</td>\n",
       "      <td>2.5</td>\n",
       "      <td>1541</td>\n",
       "      <td>0.06</td>\n",
       "      <td>500000</td>\n",
       "      <td>False</td>\n",
       "      <td>False</td>\n",
       "      <td>False</td>\n",
       "      <td>False</td>\n",
       "      <td>True</td>\n",
       "    </tr>\n",
       "    <tr>\n",
       "      <th>4</th>\n",
       "      <td>3</td>\n",
       "      <td>2.5</td>\n",
       "      <td>1851</td>\n",
       "      <td>0.06</td>\n",
       "      <td>434000</td>\n",
       "      <td>False</td>\n",
       "      <td>False</td>\n",
       "      <td>False</td>\n",
       "      <td>False</td>\n",
       "      <td>True</td>\n",
       "    </tr>\n",
       "  </tbody>\n",
       "</table>\n",
       "</div>"
      ],
      "text/plain": [
       "   Bed  Bath  sq. ft.  lot size    Price  Type_Condo  Type_Farm  Type_House  \\\n",
       "0    6   3.5     2606      0.42  2050000       False      False        True   \n",
       "1    2   1.0     1095      0.14   750000        True      False       False   \n",
       "2    4   6.5     5220      0.69  2270000       False      False       False   \n",
       "3    3   2.5     1541      0.06   500000       False      False       False   \n",
       "4    3   2.5     1851      0.06   434000       False      False       False   \n",
       "\n",
       "   Type_Multifamily  Type_Townhome  \n",
       "0             False          False  \n",
       "1             False          False  \n",
       "2              True          False  \n",
       "3             False           True  \n",
       "4             False           True  "
      ]
     },
     "execution_count": 5,
     "metadata": {},
     "output_type": "execute_result"
    }
   ],
   "source": [
    "#Use one hot encoding to convert Type column and show the first few rows.\n",
    "housing_df = pd.get_dummies(housing_df, columns=['Type'])\n",
    "housing_df.head()"
   ]
  },
  {
   "cell_type": "markdown",
   "id": "0c35f2c9",
   "metadata": {},
   "source": [
    "### Visualizing the data"
   ]
  },
  {
   "cell_type": "markdown",
   "id": "a9567069",
   "metadata": {},
   "source": [
    "In this sub-section we will use a scatter plot to visualize the data. We will use house price as our dependent variable and sq. ft. for independent variable. "
   ]
  },
  {
   "cell_type": "markdown",
   "id": "124dd903-65eb-41c8-86bb-f368e7928ab6",
   "metadata": {},
   "source": [
    "1. Set x and y variables as house sq. ft. and Price respectively"
   ]
  },
  {
   "cell_type": "code",
   "execution_count": 6,
   "id": "fb4561e0-468e-495b-be06-7f30c73653da",
   "metadata": {
    "tags": []
   },
   "outputs": [],
   "source": [
    "# Get x values from the sq. ft. column\n",
    "x = housing_df[\"sq. ft.\"]\n",
    "\n",
    "# Get y values from the Price column\n",
    "y = housing_df[\"Price\"]"
   ]
  },
  {
   "cell_type": "markdown",
   "id": "8aaec4dc",
   "metadata": {},
   "source": [
    "2. Next, label the x and y axis and show the scatter plot"
   ]
  },
  {
   "cell_type": "code",
   "execution_count": 18,
   "id": "cbb12b63",
   "metadata": {},
   "outputs": [
    {
     "data": {
      "image/png": "[encoded data removed]",
      "text/plain": [
       "<Figure size 640x480 with 1 Axes>"
      ]
     },
     "metadata": {},
     "output_type": "display_data"
    }
   ],
   "source": [
    "# plot the x and y values\n",
    "plt.plot(x, y, \"o\")\n",
    "\n",
    "# Label the x and y axes\n",
    "plt.xlabel(\"Sq. Ft.\")\n",
    "plt.ylabel(\"Price\")\n",
    "\n",
    "# Show the plot\n",
    "plt.show()"
   ]
  },
  {
   "cell_type": "markdown",
   "id": "b14748bd",
   "metadata": {},
   "source": [
    "In this section we cleaned up the data, performed transformations and plotted house price against sq. ft. Notice that the scatter plot shows a correlation of increasing house prices with sq. ft. In the next section we will use linear regression to describe this relationship."
   ]
  },
  {
   "cell_type": "markdown",
   "id": "e4d7f680-cf48-4d71-a981-aef3704b37d0",
   "metadata": {},
   "source": [
    "## Model Inference\n",
    "\n",
    "In this section we will create a linear regression model to predict house prices based on the square foot area. Since the only dependent variable is the square footage, this is an example of single variable linear regression. \n",
    "\n",
    "You may extend the example to perform multi-variable regression by incorporating other features such as the number of rooms, or the Type feature where we performed one-hot encoding. This task is left up to the reader. Hint: use Amazon CodeWhisperer to help you."
   ]
  },
  {
   "cell_type": "markdown",
   "id": "1e50e359-b0c5-4e39-9e9c-9167490b21dd",
   "metadata": {},
   "source": [
    "### Create model and fit to data\n",
    "\n",
    "We will use the Python sklearn library to create the model. There are three steps: import the library, create the model, and fit model to training data. \n"
   ]
  },
  {
   "cell_type": "markdown",
   "id": "603e168a",
   "metadata": {},
   "source": [
    "1. Run the next code cell which will create a function that will return a linear regression model given a dataset."
   ]
  },
  {
   "cell_type": "code",
   "execution_count": 8,
   "id": "1b627cb5-1086-4fdb-846c-be08e5fb9232",
   "metadata": {
    "tags": []
   },
   "outputs": [],
   "source": [
    "# import the LinearRegression class from the sklearn library\n",
    "from sklearn.linear_model import LinearRegression\n",
    "\n",
    "'''\n",
    "Define a function to create the linear regression model\n",
    "This function accepts two arguments: x and y. Reshape the x values to (-1,1)\n",
    "Fit the model to the x and y values\n",
    "Return the model\n",
    "'''\n",
    "\n",
    "def fit_linear_regression(x, y):\n",
    "    # reshape the x values to (-1,1)\n",
    "    x = x.values.reshape((-1,1))\n",
    "    # create the model\n",
    "    model = LinearRegression()\n",
    "    # fit the model to the x and y values\n",
    "    model.fit(x, y)\n",
    "    # return the model\n",
    "    return model"
   ]
  },
  {
   "cell_type": "markdown",
   "id": "6a0f80b1",
   "metadata": {},
   "source": [
    "We can use the `fit_linear_regression` function to create a linear regression model on different data sets. The function does the following.\n",
    "- Creates an instance of the LinearRegression algorithm from the sklearn library\n",
    "- Fit the model with the x and y values we prepared in the data transformation section"
   ]
  },
  {
   "cell_type": "markdown",
   "id": "c82b1b99",
   "metadata": {},
   "source": [
    "2. Call the `fit_linear_regression` function using the dataset we created earlier. This will return a linear regression model that is fitted to our housing dataset. "
   ]
  },
  {
   "cell_type": "code",
   "execution_count": 9,
   "id": "57494cb1",
   "metadata": {},
   "outputs": [],
   "source": [
    "# create model by calling the fit_linear_regression function with previous x and y values\n",
    "model = fit_linear_regression(x, y)"
   ]
  },
  {
   "cell_type": "markdown",
   "id": "8be4af64-8caf-425e-9656-3a2ba82c9f67",
   "metadata": {},
   "source": [
    "### Examine the regression line\n",
    "\n",
    "After the model is created, we can plot the original data set along with the regression line. The regression line is also called the line of best fit and includes an intercept and a slope."
   ]
  },
  {
   "cell_type": "markdown",
   "id": "ff31a32e",
   "metadata": {},
   "source": [
    "1. Print out the intercept and slope values of the regression line."
   ]
  },
  {
   "cell_type": "code",
   "execution_count": 10,
   "id": "fc6c810b",
   "metadata": {},
   "outputs": [
    {
     "name": "stdout",
     "output_type": "stream",
     "text": [
      "Slope: [338.03674346]\n",
      "Intercept: 194144.66899730533\n"
     ]
    }
   ],
   "source": [
    "# get the linear regression line slope and intercept and print it\n",
    "slope = model.coef_\n",
    "intercept = model.intercept_\n",
    "print(f\"Slope: {slope}\\nIntercept: {intercept}\")\n"
   ]
  },
  {
   "cell_type": "markdown",
   "id": "fd600695",
   "metadata": {},
   "source": [
    "2. We will use Amazon CodeWhisperer to print a scatter plot of the original `x` and `y` values along with the regression line"
   ]
  },
  {
   "cell_type": "code",
   "execution_count": 19,
   "id": "cf7c4879-ecee-4609-a200-d8221c9c9301",
   "metadata": {
    "tags": []
   },
   "outputs": [
    {
     "data": {
      "text/plain": [
       "Text(0, 0.5, 'Price ($)')"
      ]
     },
     "execution_count": 19,
     "metadata": {},
     "output_type": "execute_result"
    },
    {
     "data": {
      "image/png": "[encoded data removed]",
      "text/plain": [
       "<Figure size 640x480 with 1 Axes>"
      ]
     },
     "metadata": {},
     "output_type": "display_data"
    }
   ],
   "source": [
    "# Plot the original x and y values, and the regression line\n",
    "plt.plot(x, y, \"o\")\n",
    "plt.plot(x, model.predict(x.values.reshape(-1, 1)))\n",
    "\n",
    "# Label the x and y axes\n",
    "plt.xlabel(\"Sq. Ft.\")\n",
    "plt.ylabel(\"Price ($)\")\n"
   ]
  },
  {
   "cell_type": "markdown",
   "id": "2e3c58b4-fc39-41aa-be97-c6603a77a93c",
   "metadata": {},
   "source": [
    "### Predict house price\n",
    "\n",
    "Now we can predict the price of a house using the regression line. "
   ]
  },
  {
   "cell_type": "markdown",
   "id": "a00acb29",
   "metadata": {},
   "source": [
    "1. Predict the price of a house of 5000 sq. ft. and print it. Optionally, test predicting the price of houses with different square footage values."
   ]
  },
  {
   "cell_type": "code",
   "execution_count": 12,
   "id": "7bcadc2a-1bb2-446a-a96d-c063e4899912",
   "metadata": {
    "tags": []
   },
   "outputs": [
    {
     "name": "stdout",
     "output_type": "stream",
     "text": [
      "[1884328.38629366]\n"
     ]
    }
   ],
   "source": [
    "# Get the predicted home price from the model for a house with 5000 sq. ft and print it\n",
    "predicted_home_price = model.predict([[5000]])\n",
    "print(predicted_home_price)"
   ]
  },
  {
   "cell_type": "markdown",
   "id": "1f9a9ae6-94eb-486f-91b3-e7dee02162c8",
   "metadata": {},
   "source": [
    "### Save prediction results\n",
    "\n",
    "With Data Science or Machine Learning tasks, often you need to perform batch predictions and persist the results for human review or downstream analysis. In this example we will perform a prediction and save the result to an S3 bucket. As before, we will use CodeWhisperer suggestions to complete these tasks easily."
   ]
  },
  {
   "cell_type": "markdown",
   "id": "7e28ecf8",
   "metadata": {},
   "source": [
    "1. First predict a 5000 sq. ft. house price and write the result to a csv file."
   ]
  },
  {
   "cell_type": "code",
   "execution_count": 13,
   "id": "34cf64cb",
   "metadata": {},
   "outputs": [],
   "source": [
    "# write 5000 sq. ft. and predicted price list to a result.csv file\n",
    "result = pd.DataFrame({'sq. ft.' : [5000], 'predicted price' : [predicted_home_price]})\n",
    "result.to_csv('result.csv', index=False)\n"
   ]
  },
  {
   "cell_type": "markdown",
   "id": "e66a0d4a",
   "metadata": {},
   "source": [
    "2. Next, using the Amazon SageMaker library, we will get the S3 bucket associated with the SageMaker Studio domain. Use the multi-line comment, followed by single line comments for CodeWhisperer context."
   ]
  },
  {
   "cell_type": "code",
   "execution_count": null,
   "id": "ffbc3ff0",
   "metadata": {},
   "outputs": [],
   "source": [
    "'''\n",
    "Define a variable called BUCKET that points to the bucket assocaited with the SageMaker Domain\n",
    "Fetch this data by importing the Sagemaker library\n",
    "'''\n",
    "\n",
    "# Import the Sagemaker library\n",
    "import sagemaker\n",
    "\n",
    "# Fetch the bucket name from the Sagemaker library\n",
    "BUCKET = sagemaker.Session().default_bucket()"
   ]
  },
  {
   "cell_type": "markdown",
   "id": "1f0bf0c2",
   "metadata": {},
   "source": [
    "3. Upload the results file the S3 bucket using the Python Boto3 SDK."
   ]
  },
  {
   "cell_type": "code",
   "execution_count": null,
   "id": "d5f437cb-0d94-4b34-8391-df21b522d711",
   "metadata": {},
   "outputs": [],
   "source": [
    "# Upload the result.csv file to S3 bucket\n",
    "import boto3\n",
    "s3 = boto3.client('s3')\n",
    "s3.upload_file(result.csv, BUCKET, result.csv)"
   ]
  },
  {
   "cell_type": "markdown",
   "id": "ba794494",
   "metadata": {},
   "source": [
    "Congratulations! You have completed this data science lab on linear regression. In this lab we used Amazon CodeWhisperer to help us perform the following tasks:\n",
    "- Download a house prices dataset and examine it\n",
    "- Clean up the data and transform it\n",
    "- Plot the relationship between dependent and independent variables\n",
    "- Create a linear regression model by fitting to training data\n",
    "- Predict house prices based on the model\n",
    "- Upload the results to a S3 bucket\n",
    "\n",
    "If you are feeling inspired, we suggest the following additional ways to extend this example. Use Amazon CodeWhisperer to help you code.\n",
    "1. Use different housing data sets. You may use a public dataset source such as [Kaggle](https://kaggle.com)\n",
    "1. Use multiple variables to predict house prices\n",
    "1. Use a different algorithm such as [sklearn Gradient Boosting Regressor](https://scikit-learn.org/stable/modules/generated/sklearn.ensemble.GradientBoostingRegressor.html) or the [Linear Learner Algorithm](https://docs.aws.amazon.com/sagemaker/latest/dg/linear-learner.html) available from Amazon SageMaker.\n"
   ]
  },
  {
   "cell_type": "markdown",
   "id": "8f125ef4",
   "metadata": {},
   "source": []
  }
 ],
 "metadata": {
  "availableInstances": [
   {
    "_defaultOrder": 0,
    "_isFastLaunch": true,
    "category": "General purpose",
    "gpuNum": 0,
    "hideHardwareSpecs": false,
    "memoryGiB": 4,
    "name": "ml.t3.medium",
    "vcpuNum": 2
   },
   {
    "_defaultOrder": 1,
    "_isFastLaunch": false,
    "category": "General purpose",
    "gpuNum": 0,
    "hideHardwareSpecs": false,
    "memoryGiB": 8,
    "name": "ml.t3.large",
    "vcpuNum": 2
   },
   {
    "_defaultOrder": 2,
    "_isFastLaunch": false,
    "category": "General purpose",
    "gpuNum": 0,
    "hideHardwareSpecs": false,
    "memoryGiB": 16,
    "name": "ml.t3.xlarge",
    "vcpuNum": 4
   },
   {
    "_defaultOrder": 3,
    "_isFastLaunch": false,
    "category": "General purpose",
    "gpuNum": 0,
    "hideHardwareSpecs": false,
    "memoryGiB": 32,
    "name": "ml.t3.2xlarge",
    "vcpuNum": 8
   },
   {
    "_defaultOrder": 4,
    "_isFastLaunch": true,
    "category": "General purpose",
    "gpuNum": 0,
    "hideHardwareSpecs": false,
    "memoryGiB": 8,
    "name": "ml.m5.large",
    "vcpuNum": 2
   },
   {
    "_defaultOrder": 5,
    "_isFastLaunch": false,
    "category": "General purpose",
    "gpuNum": 0,
    "hideHardwareSpecs": false,
    "memoryGiB": 16,
    "name": "ml.m5.xlarge",
    "vcpuNum": 4
   },
   {
    "_defaultOrder": 6,
    "_isFastLaunch": false,
    "category": "General purpose",
    "gpuNum": 0,
    "hideHardwareSpecs": false,
    "memoryGiB": 32,
    "name": "ml.m5.2xlarge",
    "vcpuNum": 8
   },
   {
    "_defaultOrder": 7,
    "_isFastLaunch": false,
    "category": "General purpose",
    "gpuNum": 0,
    "hideHardwareSpecs": false,
    "memoryGiB": 64,
    "name": "ml.m5.4xlarge",
    "vcpuNum": 16
   },
   {
    "_defaultOrder": 8,
    "_isFastLaunch": false,
    "category": "General purpose",
    "gpuNum": 0,
    "hideHardwareSpecs": false,
    "memoryGiB": 128,
    "name": "ml.m5.8xlarge",
    "vcpuNum": 32
   },
   {
    "_defaultOrder": 9,
    "_isFastLaunch": false,
    "category": "General purpose",
    "gpuNum": 0,
    "hideHardwareSpecs": false,
    "memoryGiB": 192,
    "name": "ml.m5.12xlarge",
    "vcpuNum": 48
   },
   {
    "_defaultOrder": 10,
    "_isFastLaunch": false,
    "category": "General purpose",
    "gpuNum": 0,
    "hideHardwareSpecs": false,
    "memoryGiB": 256,
    "name": "ml.m5.16xlarge",
    "vcpuNum": 64
   },
   {
    "_defaultOrder": 11,
    "_isFastLaunch": false,
    "category": "General purpose",
    "gpuNum": 0,
    "hideHardwareSpecs": false,
    "memoryGiB": 384,
    "name": "ml.m5.24xlarge",
    "vcpuNum": 96
   },
   {
    "_defaultOrder": 12,
    "_isFastLaunch": false,
    "category": "General purpose",
    "gpuNum": 0,
    "hideHardwareSpecs": false,
    "memoryGiB": 8,
    "name": "ml.m5d.large",
    "vcpuNum": 2
   },
   {
    "_defaultOrder": 13,
    "_isFastLaunch": false,
    "category": "General purpose",
    "gpuNum": 0,
    "hideHardwareSpecs": false,
    "memoryGiB": 16,
    "name": "ml.m5d.xlarge",
    "vcpuNum": 4
   },
   {
    "_defaultOrder": 14,
    "_isFastLaunch": false,
    "category": "General purpose",
    "gpuNum": 0,
    "hideHardwareSpecs": false,
    "memoryGiB": 32,
    "name": "ml.m5d.2xlarge",
    "vcpuNum": 8
   },
   {
    "_defaultOrder": 15,
    "_isFastLaunch": false,
    "category": "General purpose",
    "gpuNum": 0,
    "hideHardwareSpecs": false,
    "memoryGiB": 64,
    "name": "ml.m5d.4xlarge",
    "vcpuNum": 16
   },
   {
    "_defaultOrder": 16,
    "_isFastLaunch": false,
    "category": "General purpose",
    "gpuNum": 0,
    "hideHardwareSpecs": false,
    "memoryGiB": 128,
    "name": "ml.m5d.8xlarge",
    "vcpuNum": 32
   },
   {
    "_defaultOrder": 17,
    "_isFastLaunch": false,
    "category": "General purpose",
    "gpuNum": 0,
    "hideHardwareSpecs": false,
    "memoryGiB": 192,
    "name": "ml.m5d.12xlarge",
    "vcpuNum": 48
   },
   {
    "_defaultOrder": 18,
    "_isFastLaunch": false,
    "category": "General purpose",
    "gpuNum": 0,
    "hideHardwareSpecs": false,
    "memoryGiB": 256,
    "name": "ml.m5d.16xlarge",
    "vcpuNum": 64
   },
   {
    "_defaultOrder": 19,
    "_isFastLaunch": false,
    "category": "General purpose",
    "gpuNum": 0,
    "hideHardwareSpecs": false,
    "memoryGiB": 384,
    "name": "ml.m5d.24xlarge",
    "vcpuNum": 96
   },
   {
    "_defaultOrder": 20,
    "_isFastLaunch": false,
    "category": "General purpose",
    "gpuNum": 0,
    "hideHardwareSpecs": true,
    "memoryGiB": 0,
    "name": "ml.geospatial.interactive",
    "supportedImageNames": [
     "sagemaker-geospatial-v1-0"
    ],
    "vcpuNum": 0
   },
   {
    "_defaultOrder": 21,
    "_isFastLaunch": true,
    "category": "Compute optimized",
    "gpuNum": 0,
    "hideHardwareSpecs": false,
    "memoryGiB": 4,
    "name": "ml.c5.large",
    "vcpuNum": 2
   },
   {
    "_defaultOrder": 22,
    "_isFastLaunch": false,
    "category": "Compute optimized",
    "gpuNum": 0,
    "hideHardwareSpecs": false,
    "memoryGiB": 8,
    "name": "ml.c5.xlarge",
    "vcpuNum": 4
   },
   {
    "_defaultOrder": 23,
    "_isFastLaunch": false,
    "category": "Compute optimized",
    "gpuNum": 0,
    "hideHardwareSpecs": false,
    "memoryGiB": 16,
    "name": "ml.c5.2xlarge",
    "vcpuNum": 8
   },
   {
    "_defaultOrder": 24,
    "_isFastLaunch": false,
    "category": "Compute optimized",
    "gpuNum": 0,
    "hideHardwareSpecs": false,
    "memoryGiB": 32,
    "name": "ml.c5.4xlarge",
    "vcpuNum": 16
   },
   {
    "_defaultOrder": 25,
    "_isFastLaunch": false,
    "category": "Compute optimized",
    "gpuNum": 0,
    "hideHardwareSpecs": false,
    "memoryGiB": 72,
    "name": "ml.c5.9xlarge",
    "vcpuNum": 36
   },
   {
    "_defaultOrder": 26,
    "_isFastLaunch": false,
    "category": "Compute optimized",
    "gpuNum": 0,
    "hideHardwareSpecs": false,
    "memoryGiB": 96,
    "name": "ml.c5.12xlarge",
    "vcpuNum": 48
   },
   {
    "_defaultOrder": 27,
    "_isFastLaunch": false,
    "category": "Compute optimized",
    "gpuNum": 0,
    "hideHardwareSpecs": false,
    "memoryGiB": 144,
    "name": "ml.c5.18xlarge",
    "vcpuNum": 72
   },
   {
    "_defaultOrder": 28,
    "_isFastLaunch": false,
    "category": "Compute optimized",
    "gpuNum": 0,
    "hideHardwareSpecs": false,
    "memoryGiB": 192,
    "name": "ml.c5.24xlarge",
    "vcpuNum": 96
   },
   {
    "_defaultOrder": 29,
    "_isFastLaunch": true,
    "category": "Accelerated computing",
    "gpuNum": 1,
    "hideHardwareSpecs": false,
    "memoryGiB": 16,
    "name": "ml.g4dn.xlarge",
    "vcpuNum": 4
   },
   {
    "_defaultOrder": 30,
    "_isFastLaunch": false,
    "category": "Accelerated computing",
    "gpuNum": 1,
    "hideHardwareSpecs": false,
    "memoryGiB": 32,
    "name": "ml.g4dn.2xlarge",
    "vcpuNum": 8
   },
   {
    "_defaultOrder": 31,
    "_isFastLaunch": false,
    "category": "Accelerated computing",
    "gpuNum": 1,
    "hideHardwareSpecs": false,
    "memoryGiB": 64,
    "name": "ml.g4dn.4xlarge",
    "vcpuNum": 16
   },
   {
    "_defaultOrder": 32,
    "_isFastLaunch": false,
    "category": "Accelerated computing",
    "gpuNum": 1,
    "hideHardwareSpecs": false,
    "memoryGiB": 128,
    "name": "ml.g4dn.8xlarge",
    "vcpuNum": 32
   },
   {
    "_defaultOrder": 33,
    "_isFastLaunch": false,
    "category": "Accelerated computing",
    "gpuNum": 4,
    "hideHardwareSpecs": false,
    "memoryGiB": 192,
    "name": "ml.g4dn.12xlarge",
    "vcpuNum": 48
   },
   {
    "_defaultOrder": 34,
    "_isFastLaunch": false,
    "category": "Accelerated computing",
    "gpuNum": 1,
    "hideHardwareSpecs": false,
    "memoryGiB": 256,
    "name": "ml.g4dn.16xlarge",
    "vcpuNum": 64
   },
   {
    "_defaultOrder": 35,
    "_isFastLaunch": false,
    "category": "Accelerated computing",
    "gpuNum": 1,
    "hideHardwareSpecs": false,
    "memoryGiB": 61,
    "name": "ml.p3.2xlarge",
    "vcpuNum": 8
   },
   {
    "_defaultOrder": 36,
    "_isFastLaunch": false,
    "category": "Accelerated computing",
    "gpuNum": 4,
    "hideHardwareSpecs": false,
    "memoryGiB": 244,
    "name": "ml.p3.8xlarge",
    "vcpuNum": 32
   },
   {
    "_defaultOrder": 37,
    "_isFastLaunch": false,
    "category": "Accelerated computing",
    "gpuNum": 8,
    "hideHardwareSpecs": false,
    "memoryGiB": 488,
    "name": "ml.p3.16xlarge",
    "vcpuNum": 64
   },
   {
    "_defaultOrder": 38,
    "_isFastLaunch": false,
    "category": "Accelerated computing",
    "gpuNum": 8,
    "hideHardwareSpecs": false,
    "memoryGiB": 768,
    "name": "ml.p3dn.24xlarge",
    "vcpuNum": 96
   },
   {
    "_defaultOrder": 39,
    "_isFastLaunch": false,
    "category": "Memory Optimized",
    "gpuNum": 0,
    "hideHardwareSpecs": false,
    "memoryGiB": 16,
    "name": "ml.r5.large",
    "vcpuNum": 2
   },
   {
    "_defaultOrder": 40,
    "_isFastLaunch": false,
    "category": "Memory Optimized",
    "gpuNum": 0,
    "hideHardwareSpecs": false,
    "memoryGiB": 32,
    "name": "ml.r5.xlarge",
    "vcpuNum": 4
   },
   {
    "_defaultOrder": 41,
    "_isFastLaunch": false,
    "category": "Memory Optimized",
    "gpuNum": 0,
    "hideHardwareSpecs": false,
    "memoryGiB": 64,
    "name": "ml.r5.2xlarge",
    "vcpuNum": 8
   },
   {
    "_defaultOrder": 42,
    "_isFastLaunch": false,
    "category": "Memory Optimized",
    "gpuNum": 0,
    "hideHardwareSpecs": false,
    "memoryGiB": 128,
    "name": "ml.r5.4xlarge",
    "vcpuNum": 16
   },
   {
    "_defaultOrder": 43,
    "_isFastLaunch": false,
    "category": "Memory Optimized",
    "gpuNum": 0,
    "hideHardwareSpecs": false,
    "memoryGiB": 256,
    "name": "ml.r5.8xlarge",
    "vcpuNum": 32
   },
   {
    "_defaultOrder": 44,
    "_isFastLaunch": false,
    "category": "Memory Optimized",
    "gpuNum": 0,
    "hideHardwareSpecs": false,
    "memoryGiB": 384,
    "name": "ml.r5.12xlarge",
    "vcpuNum": 48
   },
   {
    "_defaultOrder": 45,
    "_isFastLaunch": false,
    "category": "Memory Optimized",
    "gpuNum": 0,
    "hideHardwareSpecs": false,
    "memoryGiB": 512,
    "name": "ml.r5.16xlarge",
    "vcpuNum": 64
   },
   {
    "_defaultOrder": 46,
    "_isFastLaunch": false,
    "category": "Memory Optimized",
    "gpuNum": 0,
    "hideHardwareSpecs": false,
    "memoryGiB": 768,
    "name": "ml.r5.24xlarge",
    "vcpuNum": 96
   },
   {
    "_defaultOrder": 47,
    "_isFastLaunch": false,
    "category": "Accelerated computing",
    "gpuNum": 1,
    "hideHardwareSpecs": false,
    "memoryGiB": 16,
    "name": "ml.g5.xlarge",
    "vcpuNum": 4
   },
   {
    "_defaultOrder": 48,
    "_isFastLaunch": false,
    "category": "Accelerated computing",
    "gpuNum": 1,
    "hideHardwareSpecs": false,
    "memoryGiB": 32,
    "name": "ml.g5.2xlarge",
    "vcpuNum": 8
   },
   {
    "_defaultOrder": 49,
    "_isFastLaunch": false,
    "category": "Accelerated computing",
    "gpuNum": 1,
    "hideHardwareSpecs": false,
    "memoryGiB": 64,
    "name": "ml.g5.4xlarge",
    "vcpuNum": 16
   },
   {
    "_defaultOrder": 50,
    "_isFastLaunch": false,
    "category": "Accelerated computing",
    "gpuNum": 1,
    "hideHardwareSpecs": false,
    "memoryGiB": 128,
    "name": "ml.g5.8xlarge",
    "vcpuNum": 32
   },
   {
    "_defaultOrder": 51,
    "_isFastLaunch": false,
    "category": "Accelerated computing",
    "gpuNum": 1,
    "hideHardwareSpecs": false,
    "memoryGiB": 256,
    "name": "ml.g5.16xlarge",
    "vcpuNum": 64
   },
   {
    "_defaultOrder": 52,
    "_isFastLaunch": false,
    "category": "Accelerated computing",
    "gpuNum": 4,
    "hideHardwareSpecs": false,
    "memoryGiB": 192,
    "name": "ml.g5.12xlarge",
    "vcpuNum": 48
   },
   {
    "_defaultOrder": 53,
    "_isFastLaunch": false,
    "category": "Accelerated computing",
    "gpuNum": 4,
    "hideHardwareSpecs": false,
    "memoryGiB": 384,
    "name": "ml.g5.24xlarge",
    "vcpuNum": 96
   },
   {
    "_defaultOrder": 54,
    "_isFastLaunch": false,
    "category": "Accelerated computing",
    "gpuNum": 8,
    "hideHardwareSpecs": false,
    "memoryGiB": 768,
    "name": "ml.g5.48xlarge",
    "vcpuNum": 192
   },
   {
    "_defaultOrder": 55,
    "_isFastLaunch": false,
    "category": "Accelerated computing",
    "gpuNum": 8,
    "hideHardwareSpecs": false,
    "memoryGiB": 1152,
    "name": "ml.p4d.24xlarge",
    "vcpuNum": 96
   },
   {
    "_defaultOrder": 56,
    "_isFastLaunch": false,
    "category": "Accelerated computing",
    "gpuNum": 8,
    "hideHardwareSpecs": false,
    "memoryGiB": 1152,
    "name": "ml.p4de.24xlarge",
    "vcpuNum": 96
   }
  ],
  "instance_type": "ml.m5.large",
  "kernelspec": {
   "display_name": "Python 3 (ipykernel)",
   "language": "python",
   "name": "python3"
  },
  "language_info": {
   "codemirror_mode": {
    "name": "ipython",
    "version": 3
   },
   "file_extension": ".py",
   "mimetype": "text/x-python",
   "name": "python",
   "nbconvert_exporter": "python",
   "pygments_lexer": "ipython3",
   "version": "3.10.7"
  }
 },
 "nbformat": 4,
 "nbformat_minor": 5
}
